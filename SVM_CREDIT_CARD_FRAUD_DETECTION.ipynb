{
 "cells": [
  {
   "cell_type": "code",
   "execution_count": 18,
   "metadata": {},
   "outputs": [],
   "source": [
    "import pandas as pd\n",
    "import seaborn as sns\n",
    "import numpy as np\n",
    "import matplotlib.pyplot as plt\n",
    "from sklearn.model_selection import cross_val_score\n",
    "from sklearn.preprocessing import StandardScaler\n",
    "from sklearn.model_selection import train_test_split\n",
    "from sklearn.svm import SVC\n",
    "from sklearn.metrics import confusion_matrix, accuracy_score, f1_score, precision_score, recall_score"
   ]
  },
  {
   "cell_type": "code",
   "execution_count": 2,
   "metadata": {},
   "outputs": [
    {
     "name": "stdout",
     "output_type": "stream",
     "text": [
      "   Time        V1        V2        V3        V4        V5        V6        V7  \\\n",
      "0   0.0 -1.359807 -0.072781  2.536347  1.378155 -0.338321  0.462388  0.239599   \n",
      "1   0.0  1.191857  0.266151  0.166480  0.448154  0.060018 -0.082361 -0.078803   \n",
      "2   1.0 -1.358354 -1.340163  1.773209  0.379780 -0.503198  1.800499  0.791461   \n",
      "3   1.0 -0.966272 -0.185226  1.792993 -0.863291 -0.010309  1.247203  0.237609   \n",
      "4   2.0 -1.158233  0.877737  1.548718  0.403034 -0.407193  0.095921  0.592941   \n",
      "\n",
      "         V8        V9  ...         V21       V22       V23       V24  \\\n",
      "0  0.098698  0.363787  ...   -0.018307  0.277838 -0.110474  0.066928   \n",
      "1  0.085102 -0.255425  ...   -0.225775 -0.638672  0.101288 -0.339846   \n",
      "2  0.247676 -1.514654  ...    0.247998  0.771679  0.909412 -0.689281   \n",
      "3  0.377436 -1.387024  ...   -0.108300  0.005274 -0.190321 -1.175575   \n",
      "4 -0.270533  0.817739  ...   -0.009431  0.798278 -0.137458  0.141267   \n",
      "\n",
      "        V25       V26       V27       V28  Amount  Class  \n",
      "0  0.128539 -0.189115  0.133558 -0.021053  149.62      0  \n",
      "1  0.167170  0.125895 -0.008983  0.014724    2.69      0  \n",
      "2 -0.327642 -0.139097 -0.055353 -0.059752  378.66      0  \n",
      "3  0.647376 -0.221929  0.062723  0.061458  123.50      0  \n",
      "4 -0.206010  0.502292  0.219422  0.215153   69.99      0  \n",
      "\n",
      "[5 rows x 31 columns]\n"
     ]
    }
   ],
   "source": [
    "data= pd.read_csv(\"creditcard.csv\")\n",
    "print(data.head())"
   ]
  },
  {
   "cell_type": "code",
   "execution_count": 4,
   "metadata": {},
   "outputs": [
    {
     "data": {
      "text/plain": [
       "<matplotlib.axes._subplots.AxesSubplot at 0x22201fa6898>"
      ]
     },
     "execution_count": 4,
     "metadata": {},
     "output_type": "execute_result"
    },
    {
     "data": {
      "image/png": "[encoded data removed]",
      "text/plain": [
       "<matplotlib.figure.Figure at 0x22201fa64e0>"
      ]
     },
     "metadata": {},
     "output_type": "display_data"
    }
   ],
   "source": [
    "count_Class=pd.value_counts(data[\"Class\"], sort= True)\n",
    "count_Class.plot(kind= 'bar')"
   ]
  },
  {
   "cell_type": "code",
   "execution_count": 6,
   "metadata": {},
   "outputs": [
    {
     "name": "stdout",
     "output_type": "stream",
     "text": [
      "        Time        V1        V2        V3        V4        V5        V6  \\\n",
      "541    406.0 -2.312227  1.951992 -1.609851  3.997906 -0.522188 -1.426545   \n",
      "623    472.0 -3.043541 -3.157307  1.088463  2.288644  1.359805 -1.064823   \n",
      "4920  4462.0 -2.303350  1.759247 -0.359745  2.330243 -0.821628 -0.075788   \n",
      "6108  6986.0 -4.397974  1.358367 -2.592844  2.679787 -1.128131 -1.706536   \n",
      "6329  7519.0  1.234235  3.019740 -4.304597  4.732795  3.624201 -1.357746   \n",
      "\n",
      "            V7        V8        V9  ...         V21       V22       V23  \\\n",
      "541  -2.537387  1.391657 -2.770089  ...    0.517232 -0.035049 -0.465211   \n",
      "623   0.325574 -0.067794 -0.270953  ...    0.661696  0.435477  1.375966   \n",
      "4920  0.562320 -0.399147 -0.238253  ...   -0.294166 -0.932391  0.172726   \n",
      "6108 -3.496197 -0.248778 -0.247768  ...    0.573574  0.176968 -0.436207   \n",
      "6329  1.713445 -0.496358 -1.282858  ...   -0.379068 -0.704181 -0.656805   \n",
      "\n",
      "           V24       V25       V26       V27       V28  Amount  Class  \n",
      "541   0.320198  0.044519  0.177840  0.261145 -0.143276    0.00      1  \n",
      "623  -0.293803  0.279798 -0.145362 -0.252773  0.035764  529.00      1  \n",
      "4920 -0.087330 -0.156114 -0.542628  0.039566 -0.153029  239.93      1  \n",
      "6108 -0.053502  0.252405 -0.657488 -0.827136  0.849573   59.00      1  \n",
      "6329 -1.632653  1.488901  0.566797 -0.010016  0.146793    1.00      1  \n",
      "\n",
      "[5 rows x 31 columns]\n"
     ]
    }
   ],
   "source": [
    "No_of_frauds= len(data[data[\"Class\"]==1])\n",
    "No_of_normals = len(data[data[\"Class\"]==0])\n",
    "\n",
    "#list of fraud indices\n",
    "fraud_index= np.array(data[data[\"Class\"]==1].index)\n",
    "\n",
    "#getting the list of normal indices from the full dataset\n",
    "normal_index= data[data[\"Class\"]==0].index\n",
    "\n",
    "#choosing random normal indices equal to the number of fraudulent transactions\n",
    "random_normal_indices= np.random.choice(normal_index, No_of_frauds, replace= False)\n",
    "random_normal_indices= np.array(random_normal_indices)\n",
    "\n",
    "# concatenate fraud index and normal index to create a list of indices\n",
    "undersampled_indices= np.concatenate([fraud_index, random_normal_indices])\n",
    "\n",
    "#use the undersampled indices to build the undersampled_data dataframe\n",
    "undersampled_data= data.iloc[undersampled_indices, :]\n",
    "\n",
    "print(undersampled_data.head())"
   ]
  },
  {
   "cell_type": "code",
   "execution_count": 7,
   "metadata": {},
   "outputs": [
    {
     "name": "stdout",
     "output_type": "stream",
     "text": [
      "The number of fraudulent transactions( Class 1) are:  492\n",
      "The number of normal transactions( Class 0) are:  492\n",
      "The total number of rows of both classes are:  984\n",
      "Class 0 percentage =  50.0\n",
      "Class 1 percentage =  50.0\n"
     ]
    },
    {
     "data": {
      "text/plain": [
       "<matplotlib.axes._subplots.AxesSubplot at 0x222026de908>"
      ]
     },
     "execution_count": 7,
     "metadata": {},
     "output_type": "execute_result"
    },
    {
     "data": {
      "image/png": "[encoded data removed]",
      "text/plain": [
       "<matplotlib.figure.Figure at 0x222026de2b0>"
      ]
     },
     "metadata": {},
     "output_type": "display_data"
    }
   ],
   "source": [
    "#BALANCED DATA\n",
    "No_of_frauds_sampled= len(undersampled_data[undersampled_data[\"Class\"]== 1])\n",
    "\n",
    "No_of_normals_sampled = len(undersampled_data[undersampled_data[\"Class\"]== 0])\n",
    "\n",
    "print(\"The number of fraudulent transactions( Class 1) are: \", No_of_frauds_sampled)\n",
    "print(\"The number of normal transactions( Class 0) are: \", No_of_normals_sampled)\n",
    "total_sampled= No_of_frauds_sampled + No_of_normals_sampled\n",
    "print(\"The total number of rows of both classes are: \", total_sampled)\n",
    "\n",
    "Fraud_percent_sampled= (No_of_frauds_sampled / total_sampled)*100\n",
    "Normal_percent_sampled= (No_of_normals_sampled / total_sampled)*100\n",
    "print(\"Class 0 percentage = \", Normal_percent_sampled)\n",
    "print(\"Class 1 percentage = \", Fraud_percent_sampled)\n",
    "\n",
    "#Check the data count now\n",
    "count_sampled=pd.value_counts(undersampled_data[\"Class\"], sort= True)\n",
    "count_sampled.plot(kind= 'bar')"
   ]
  },
  {
   "cell_type": "code",
   "execution_count": 8,
   "metadata": {},
   "outputs": [
    {
     "name": "stdout",
     "output_type": "stream",
     "text": [
      "            V1        V2        V3        V4        V5        V6        V7  \\\n",
      "541  -2.312227  1.951992 -1.609851  3.997906 -0.522188 -1.426545 -2.537387   \n",
      "623  -3.043541 -3.157307  1.088463  2.288644  1.359805 -1.064823  0.325574   \n",
      "4920 -2.303350  1.759247 -0.359745  2.330243 -0.821628 -0.075788  0.562320   \n",
      "6108 -4.397974  1.358367 -2.592844  2.679787 -1.128131 -1.706536 -3.496197   \n",
      "6329  1.234235  3.019740 -4.304597  4.732795  3.624201 -1.357746  1.713445   \n",
      "\n",
      "            V8        V9       V10      ...             V21       V22  \\\n",
      "541   1.391657 -2.770089 -2.772272      ...        0.517232 -0.035049   \n",
      "623  -0.067794 -0.270953 -0.838587      ...        0.661696  0.435477   \n",
      "4920 -0.399147 -0.238253 -1.525412      ...       -0.294166 -0.932391   \n",
      "6108 -0.248778 -0.247768 -4.801637      ...        0.573574  0.176968   \n",
      "6329 -0.496358 -1.282858 -2.447469      ...       -0.379068 -0.704181   \n",
      "\n",
      "           V23       V24       V25       V26       V27       V28  Class  \\\n",
      "541  -0.465211  0.320198  0.044519  0.177840  0.261145 -0.143276      1   \n",
      "623   1.375966 -0.293803  0.279798 -0.145362 -0.252773  0.035764      1   \n",
      "4920  0.172726 -0.087330 -0.156114 -0.542628  0.039566 -0.153029      1   \n",
      "6108 -0.436207 -0.053502  0.252405 -0.657488 -0.827136  0.849573      1   \n",
      "6329 -0.656805 -1.632653  1.488901  0.566797 -0.010016  0.146793      1   \n",
      "\n",
      "      scaled_Amount  \n",
      "541       -0.405028  \n",
      "623        1.459875  \n",
      "4920       0.440806  \n",
      "6108      -0.197033  \n",
      "6329      -0.401503  \n",
      "\n",
      "[5 rows x 30 columns]\n"
     ]
    },
    {
     "name": "stderr",
     "output_type": "stream",
     "text": [
      "C:\\Users\\royal mehta\\Anaconda3\\lib\\site-packages\\ipykernel_launcher.py:4: SettingWithCopyWarning: \n",
      "A value is trying to be set on a copy of a slice from a DataFrame.\n",
      "Try using .loc[row_indexer,col_indexer] = value instead\n",
      "\n",
      "See the caveats in the documentation: http://pandas.pydata.org/pandas-docs/stable/indexing.html#indexing-view-versus-copy\n",
      "  after removing the cwd from sys.path.\n"
     ]
    }
   ],
   "source": [
    "#We have to scale the Amount feature before fitting our model to our dataset\n",
    "\n",
    "sc= StandardScaler()\n",
    "undersampled_data[\"scaled_Amount\"]=  sc.fit_transform(undersampled_data.iloc[:,29].values.reshape(-1,1))\n",
    "\n",
    "#dropping time and old amount column\n",
    "undersampled_data= undersampled_data.drop([\"Time\",\"Amount\"], axis= 1)\n",
    "\n",
    "print(undersampled_data.head())"
   ]
  },
  {
   "cell_type": "code",
   "execution_count": 9,
   "metadata": {},
   "outputs": [],
   "source": [
    "X= undersampled_data.iloc[:, undersampled_data.columns != \"Class\"].values\n",
    "\n",
    "y= undersampled_data.iloc[:, undersampled_data.columns == \"Class\"].values"
   ]
  },
  {
   "cell_type": "code",
   "execution_count": 10,
   "metadata": {},
   "outputs": [
    {
     "name": "stdout",
     "output_type": "stream",
     "text": [
      "The split of the under_sampled data is as follows\n",
      "X_train:  738\n",
      "X_test:  246\n",
      "y_train:  738\n",
      "y_test:  246\n"
     ]
    }
   ],
   "source": [
    "X_train, X_test, y_train, y_test = train_test_split(X, y, test_size= 0.25, random_state= 0)\n",
    "print(\"The split of the under_sampled data is as follows\")\n",
    "print(\"X_train: \", len(X_train))\n",
    "print(\"X_test: \", len(X_test))\n",
    "print(\"y_train: \", len(y_train))\n",
    "print(\"y_test: \", len(y_test))"
   ]
  },
  {
   "cell_type": "code",
   "execution_count": 11,
   "metadata": {},
   "outputs": [
    {
     "data": {
      "text/plain": [
       "SVC(C=1, cache_size=200, class_weight=None, coef0=0.0,\n",
       "  decision_function_shape='ovr', degree=3, gamma='auto', kernel='linear',\n",
       "  max_iter=-1, probability=False, random_state=0, shrinking=True,\n",
       "  tol=0.001, verbose=False)"
      ]
     },
     "execution_count": 11,
     "metadata": {},
     "output_type": "execute_result"
    }
   ],
   "source": [
    "#Using the linear kernel to build the initail model. Let us see if this is the best parameter later\n",
    "classifier= SVC(C= 1, kernel= 'linear', random_state= 0)\n",
    "classifier.fit(X_train, y_train.ravel())"
   ]
  },
  {
   "cell_type": "code",
   "execution_count": 12,
   "metadata": {},
   "outputs": [],
   "source": [
    "y_pred = classifier.predict(X_test)"
   ]
  },
  {
   "cell_type": "code",
   "execution_count": 15,
   "metadata": {},
   "outputs": [],
   "source": [
    "cm = confusion_matrix(y_test, y_pred)"
   ]
  },
  {
   "cell_type": "code",
   "execution_count": 17,
   "metadata": {},
   "outputs": [
    {
     "data": {
      "text/plain": [
       "<matplotlib.axes._subplots.AxesSubplot at 0x2220272bb00>"
      ]
     },
     "execution_count": 17,
     "metadata": {},
     "output_type": "execute_result"
    },
    {
     "data": {
      "image/png": "[encoded data removed]",
      "text/plain": [
       "<matplotlib.figure.Figure at 0x222756cb208>"
      ]
     },
     "metadata": {},
     "output_type": "display_data"
    }
   ],
   "source": [
    "df_cm = pd.DataFrame(cm, index = (0, 1), columns = (0, 1))\n",
    "plt.figure(figsize = (10,7))\n",
    "sns.set(font_scale=1.4)\n",
    "sns.heatmap(df_cm, annot=True, fmt='g')"
   ]
  },
  {
   "cell_type": "code",
   "execution_count": 28,
   "metadata": {},
   "outputs": [],
   "source": [
    "prec = precision_score(y_test, y_pred)\n",
    "rec = recall_score(y_test, y_pred)\n",
    "f1 = f1_score(y_test, y_pred)\n",
    "\n",
    "\n",
    "\n",
    "results = pd.DataFrame([['SVM', prec, rec, f1]],\n",
    "               columns = ['Model', 'Precision', 'Recall', 'F1 Score'])\n",
    "\n",
    "\n"
   ]
  },
  {
   "cell_type": "code",
   "execution_count": 29,
   "metadata": {
    "scrolled": true
   },
   "outputs": [
    {
     "data": {
      "text/html": [
       "<div>\n",
       "<style scoped>\n",
       "    .dataframe tbody tr th:only-of-type {\n",
       "        vertical-align: middle;\n",
       "    }\n",
       "\n",
       "    .dataframe tbody tr th {\n",
       "        vertical-align: top;\n",
       "    }\n",
       "\n",
       "    .dataframe thead th {\n",
       "        text-align: right;\n",
       "    }\n",
       "</style>\n",
       "<table border=\"1\" class=\"dataframe\">\n",
       "  <thead>\n",
       "    <tr style=\"text-align: right;\">\n",
       "      <th></th>\n",
       "      <th>Model</th>\n",
       "      <th>Precision</th>\n",
       "      <th>Recall</th>\n",
       "      <th>F1 Score</th>\n",
       "    </tr>\n",
       "  </thead>\n",
       "  <tbody>\n",
       "    <tr>\n",
       "      <th>0</th>\n",
       "      <td>SVM</td>\n",
       "      <td>0.949153</td>\n",
       "      <td>0.941176</td>\n",
       "      <td>0.945148</td>\n",
       "    </tr>\n",
       "  </tbody>\n",
       "</table>\n",
       "</div>"
      ],
      "text/plain": [
       "  Model  Precision    Recall  F1 Score\n",
       "0   SVM   0.949153  0.941176  0.945148"
      ]
     },
     "execution_count": 29,
     "metadata": {},
     "output_type": "execute_result"
    }
   ],
   "source": [
    "results"
   ]
  },
  {
   "cell_type": "code",
   "execution_count": 30,
   "metadata": {},
   "outputs": [],
   "source": [
    "#creating a new dataset to test our model\n",
    "datanew= data.copy()\n",
    "\n",
    "#Now to test the model with the whole dataset\n",
    "datanew[\"scaled_Amount\"]=  sc.fit_transform(datanew[\"Amount\"].values.reshape(-1,1))\n",
    "\n",
    "#dropping time and old amount column\n",
    "datanew= datanew.drop([\"Time\",\"Amount\"], axis= 1)\n",
    "\n",
    "#separating the x and y variables to fit our model\n",
    "X_full= datanew.iloc[:, datanew.columns != \"Class\"].values\n",
    "\n",
    "y_full= datanew.iloc[:, datanew.columns == \"Class\"].values"
   ]
  },
  {
   "cell_type": "code",
   "execution_count": 31,
   "metadata": {},
   "outputs": [
    {
     "name": "stdout",
     "output_type": "stream",
     "text": [
      "The split of the full dataset is as follows\n",
      "X_train_full:  213605\n",
      "X_test_full:  71202\n",
      "y_train_full:  213605\n",
      "y_test_full:  71202\n"
     ]
    }
   ],
   "source": [
    "X_train_full, X_test_full, y_train_full, y_test_full = train_test_split(X_full, y_full, test_size= 0.25, random_state= 0)\n",
    "\n",
    "print(\"The split of the full dataset is as follows\")\n",
    "print(\"X_train_full: \", len(X_train_full))\n",
    "print(\"X_test_full: \", len(X_test_full))\n",
    "print(\"y_train_full: \", len(y_train_full))\n",
    "print(\"y_test_full: \", len(y_test_full))"
   ]
  },
  {
   "cell_type": "code",
   "execution_count": 33,
   "metadata": {},
   "outputs": [],
   "source": [
    "#predicting y_pred_full_dataset\n",
    "y_pred_full_dataset= classifier.predict(X_test_full)\n",
    "\n",
    "#confusion matrix usign y_test_full and ypred_full\n",
    "cm3 = confusion_matrix(y_test_full, y_pred_full_dataset)"
   ]
  },
  {
   "cell_type": "code",
   "execution_count": 34,
   "metadata": {},
   "outputs": [
    {
     "data": {
      "text/plain": [
       "<matplotlib.axes._subplots.AxesSubplot at 0x22202b898d0>"
      ]
     },
     "execution_count": 34,
     "metadata": {},
     "output_type": "execute_result"
    },
    {
     "data": {
      "image/png": "[encoded data removed]",
      "text/plain": [
       "<matplotlib.figure.Figure at 0x222026d88d0>"
      ]
     },
     "metadata": {},
     "output_type": "display_data"
    }
   ],
   "source": [
    "df_cm = pd.DataFrame(cm3, index = (0, 1), columns = (0, 1))\n",
    "plt.figure(figsize = (10,7))\n",
    "sns.set(font_scale=1.4)\n",
    "sns.heatmap(df_cm, annot=True, fmt='g')"
   ]
  },
  {
   "cell_type": "code",
   "execution_count": 36,
   "metadata": {},
   "outputs": [],
   "source": [
    "prec = precision_score(y_test, y_pred)\n",
    "rec = recall_score(y_test, y_pred)\n",
    "f1 = f1_score(y_test, y_pred)\n",
    "\n",
    "\n",
    "\n",
    "results_full_dataset = pd.DataFrame([['SVM', prec, rec, f1]],\n",
    "               columns = ['Model', 'Precision', 'Recall', 'F1 Score'])\n",
    "\n",
    "\n"
   ]
  }
 ],
 "metadata": {
  "kernelspec": {
   "display_name": "Python 3",
   "language": "python",
   "name": "python3"
  },
  "language_info": {
   "codemirror_mode": {
    "name": "ipython",
    "version": 3
   },
   "file_extension": ".py",
   "mimetype": "text/x-python",
   "name": "python",
   "nbconvert_exporter": "python",
   "pygments_lexer": "ipython3",
   "version": "3.6.4"
  }
 },
 "nbformat": 4,
 "nbformat_minor": 2
}
